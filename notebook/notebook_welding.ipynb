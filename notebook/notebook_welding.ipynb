{
 "cells": [
  {
   "cell_type": "markdown",
   "id": "bb989aa3-db79-4e97-926a-e79197bbc5d3",
   "metadata": {},
   "source": [
    "# Прогнозирование размеров сварного шва при электронно-лучевой сварке тонкостенных конструкций аэрокосмического назначения #"
   ]
  },
  {
   "cell_type": "markdown",
   "id": "bbf88e81-b307-4c26-86b3-e4c8602d7684",
   "metadata": {},
   "source": [
    "# Imports"
   ]
  },
  {
   "cell_type": "code",
   "execution_count": 1,
   "id": "bca23ad8-c779-48ad-8e6e-1afd020a0c0f",
   "metadata": {},
   "outputs": [
    {
     "name": "stdout",
     "output_type": "stream",
     "text": [
      "Версия TensoFlow = 2.10.0\n",
      "Версия Keras = 2.10.0\n"
     ]
    }
   ],
   "source": [
    "import pandas as pd\n",
    "import numpy as np\n",
    "%matplotlib inline\n",
    "import matplotlib.pyplot as plt\n",
    "import seaborn as sns\n",
    "\n",
    "import warnings\n",
    "warnings.filterwarnings('ignore')\n",
    "\n",
    "from sklearn.metrics import mean_squared_error\n",
    "from sklearn.model_selection import train_test_split, GridSearchCV\n",
    "from sklearn.preprocessing import StandardScaler\n",
    "from sklearn.linear_model import LinearRegression, Ridge\n",
    "from sklearn.ensemble import RandomForestRegressor\n",
    "\n",
    "import tensorflow as tf\n",
    "import tensorflow.keras as keras\n",
    "import tensorflow.keras.models as M\n",
    "import tensorflow.keras.layers as L\n",
    "import tensorflow.keras.backend as K\n",
    "import tensorflow.keras.optimizers as O\n",
    "\n",
    "from tensorflow.keras.models import Sequential\n",
    "from tensorflow.keras.layers import Dense, Dropout, BatchNormalization\n",
    "from tensorflow.keras.callbacks import EarlyStopping, ModelCheckpoint, TensorBoard, ReduceLROnPlateau\n",
    "\n",
    "print('Версия TensoFlow =', tf.__version__)\n",
    "print('Версия Keras =', keras.__version__)"
   ]
  },
  {
   "cell_type": "markdown",
   "id": "9d690ba7-2929-4c63-a29f-1588c8426252",
   "metadata": {},
   "source": [
    "# Загрузка данных"
   ]
  },
  {
   "cell_type": "code",
   "execution_count": 2,
   "id": "bdb9877d-d771-4bfd-8cca-40d02867e8ad",
   "metadata": {},
   "outputs": [],
   "source": [
    "# Читаем данные из файла\n",
    "df = pd.read_csv('..\\data\\ebw_data.csv')"
   ]
  },
  {
   "cell_type": "code",
   "execution_count": 3,
   "id": "758fb58a-4781-4119-9e40-d16402bd5777",
   "metadata": {},
   "outputs": [
    {
     "data": {
      "text/html": [
       "<div>\n",
       "<style scoped>\n",
       "    .dataframe tbody tr th:only-of-type {\n",
       "        vertical-align: middle;\n",
       "    }\n",
       "\n",
       "    .dataframe tbody tr th {\n",
       "        vertical-align: top;\n",
       "    }\n",
       "\n",
       "    .dataframe thead th {\n",
       "        text-align: right;\n",
       "    }\n",
       "</style>\n",
       "<table border=\"1\" class=\"dataframe\">\n",
       "  <thead>\n",
       "    <tr style=\"text-align: right;\">\n",
       "      <th></th>\n",
       "      <th>IW</th>\n",
       "      <th>IF</th>\n",
       "      <th>VW</th>\n",
       "      <th>FP</th>\n",
       "      <th>Depth</th>\n",
       "      <th>Width</th>\n",
       "    </tr>\n",
       "  </thead>\n",
       "  <tbody>\n",
       "    <tr>\n",
       "      <th>0</th>\n",
       "      <td>47</td>\n",
       "      <td>139</td>\n",
       "      <td>4.5</td>\n",
       "      <td>80</td>\n",
       "      <td>1.60</td>\n",
       "      <td>2.54</td>\n",
       "    </tr>\n",
       "    <tr>\n",
       "      <th>1</th>\n",
       "      <td>47</td>\n",
       "      <td>139</td>\n",
       "      <td>4.5</td>\n",
       "      <td>80</td>\n",
       "      <td>1.62</td>\n",
       "      <td>2.50</td>\n",
       "    </tr>\n",
       "    <tr>\n",
       "      <th>2</th>\n",
       "      <td>47</td>\n",
       "      <td>139</td>\n",
       "      <td>4.5</td>\n",
       "      <td>80</td>\n",
       "      <td>1.68</td>\n",
       "      <td>2.60</td>\n",
       "    </tr>\n",
       "    <tr>\n",
       "      <th>3</th>\n",
       "      <td>47</td>\n",
       "      <td>139</td>\n",
       "      <td>4.5</td>\n",
       "      <td>80</td>\n",
       "      <td>1.58</td>\n",
       "      <td>2.52</td>\n",
       "    </tr>\n",
       "    <tr>\n",
       "      <th>4</th>\n",
       "      <td>45</td>\n",
       "      <td>140</td>\n",
       "      <td>4.5</td>\n",
       "      <td>80</td>\n",
       "      <td>1.76</td>\n",
       "      <td>2.48</td>\n",
       "    </tr>\n",
       "  </tbody>\n",
       "</table>\n",
       "</div>"
      ],
      "text/plain": [
       "   IW   IF   VW  FP  Depth  Width\n",
       "0  47  139  4.5  80   1.60   2.54\n",
       "1  47  139  4.5  80   1.62   2.50\n",
       "2  47  139  4.5  80   1.68   2.60\n",
       "3  47  139  4.5  80   1.58   2.52\n",
       "4  45  140  4.5  80   1.76   2.48"
      ]
     },
     "execution_count": 3,
     "metadata": {},
     "output_type": "execute_result"
    }
   ],
   "source": [
    "df.head(5)"
   ]
  },
  {
   "cell_type": "markdown",
   "id": "a8b3836d-3fb3-4f8c-abdd-fc8364a85128",
   "metadata": {},
   "source": [
    "- **IW** - величина сварочного тока;\n",
    "\n",
    "- **IF** - ток фокусировки электронного пучка;\n",
    "\n",
    "- **VW** - скорость сварки;\n",
    "\n",
    "- **FP** - Менялось расстояние от поверхности образцов до электронно-оптической системы. "
   ]
  },
  {
   "cell_type": "markdown",
   "id": "19a0e772-3f68-4886-95c0-63e646f6e158",
   "metadata": {},
   "source": [
    "# EDA"
   ]
  },
  {
   "cell_type": "code",
   "execution_count": 4,
   "id": "6c19a0f8-349b-456b-9ab4-b5346a67499a",
   "metadata": {},
   "outputs": [
    {
     "data": {
      "text/plain": [
       "IW       0\n",
       "IF       0\n",
       "VW       0\n",
       "FP       0\n",
       "Depth    0\n",
       "Width    0\n",
       "dtype: int64"
      ]
     },
     "execution_count": 4,
     "metadata": {},
     "output_type": "execute_result"
    }
   ],
   "source": [
    "# Проверим пропуски\n",
    "df.isna().sum()"
   ]
  },
  {
   "cell_type": "code",
   "execution_count": 5,
   "id": "89d5a914-29e0-441d-a0f1-28c24bf026db",
   "metadata": {},
   "outputs": [
    {
     "data": {
      "text/html": [
       "<div>\n",
       "<style scoped>\n",
       "    .dataframe tbody tr th:only-of-type {\n",
       "        vertical-align: middle;\n",
       "    }\n",
       "\n",
       "    .dataframe tbody tr th {\n",
       "        vertical-align: top;\n",
       "    }\n",
       "\n",
       "    .dataframe thead th {\n",
       "        text-align: right;\n",
       "    }\n",
       "</style>\n",
       "<table border=\"1\" class=\"dataframe\">\n",
       "  <thead>\n",
       "    <tr style=\"text-align: right;\">\n",
       "      <th></th>\n",
       "      <th>IW</th>\n",
       "      <th>IF</th>\n",
       "      <th>VW</th>\n",
       "      <th>FP</th>\n",
       "      <th>Depth</th>\n",
       "      <th>Width</th>\n",
       "    </tr>\n",
       "  </thead>\n",
       "  <tbody>\n",
       "    <tr>\n",
       "      <th>count</th>\n",
       "      <td>72.000000</td>\n",
       "      <td>72.000000</td>\n",
       "      <td>72.000000</td>\n",
       "      <td>72.000000</td>\n",
       "      <td>72.000000</td>\n",
       "      <td>72.000000</td>\n",
       "    </tr>\n",
       "    <tr>\n",
       "      <th>mean</th>\n",
       "      <td>45.666667</td>\n",
       "      <td>141.333333</td>\n",
       "      <td>8.638889</td>\n",
       "      <td>78.333333</td>\n",
       "      <td>1.195556</td>\n",
       "      <td>1.970417</td>\n",
       "    </tr>\n",
       "    <tr>\n",
       "      <th>std</th>\n",
       "      <td>1.678363</td>\n",
       "      <td>5.145763</td>\n",
       "      <td>2.061078</td>\n",
       "      <td>21.493530</td>\n",
       "      <td>0.225081</td>\n",
       "      <td>0.279040</td>\n",
       "    </tr>\n",
       "    <tr>\n",
       "      <th>min</th>\n",
       "      <td>43.000000</td>\n",
       "      <td>131.000000</td>\n",
       "      <td>4.500000</td>\n",
       "      <td>50.000000</td>\n",
       "      <td>0.800000</td>\n",
       "      <td>1.680000</td>\n",
       "    </tr>\n",
       "    <tr>\n",
       "      <th>25%</th>\n",
       "      <td>44.000000</td>\n",
       "      <td>139.000000</td>\n",
       "      <td>8.000000</td>\n",
       "      <td>60.000000</td>\n",
       "      <td>1.080000</td>\n",
       "      <td>1.760000</td>\n",
       "    </tr>\n",
       "    <tr>\n",
       "      <th>50%</th>\n",
       "      <td>45.500000</td>\n",
       "      <td>141.000000</td>\n",
       "      <td>9.000000</td>\n",
       "      <td>80.000000</td>\n",
       "      <td>1.200000</td>\n",
       "      <td>1.840000</td>\n",
       "    </tr>\n",
       "    <tr>\n",
       "      <th>75%</th>\n",
       "      <td>47.000000</td>\n",
       "      <td>146.000000</td>\n",
       "      <td>10.000000</td>\n",
       "      <td>80.000000</td>\n",
       "      <td>1.290000</td>\n",
       "      <td>2.050000</td>\n",
       "    </tr>\n",
       "    <tr>\n",
       "      <th>max</th>\n",
       "      <td>49.000000</td>\n",
       "      <td>150.000000</td>\n",
       "      <td>12.000000</td>\n",
       "      <td>125.000000</td>\n",
       "      <td>1.760000</td>\n",
       "      <td>2.600000</td>\n",
       "    </tr>\n",
       "  </tbody>\n",
       "</table>\n",
       "</div>"
      ],
      "text/plain": [
       "              IW          IF         VW          FP      Depth      Width\n",
       "count  72.000000   72.000000  72.000000   72.000000  72.000000  72.000000\n",
       "mean   45.666667  141.333333   8.638889   78.333333   1.195556   1.970417\n",
       "std     1.678363    5.145763   2.061078   21.493530   0.225081   0.279040\n",
       "min    43.000000  131.000000   4.500000   50.000000   0.800000   1.680000\n",
       "25%    44.000000  139.000000   8.000000   60.000000   1.080000   1.760000\n",
       "50%    45.500000  141.000000   9.000000   80.000000   1.200000   1.840000\n",
       "75%    47.000000  146.000000  10.000000   80.000000   1.290000   2.050000\n",
       "max    49.000000  150.000000  12.000000  125.000000   1.760000   2.600000"
      ]
     },
     "execution_count": 5,
     "metadata": {},
     "output_type": "execute_result"
    }
   ],
   "source": [
    "# Общая информация о датасете\n",
    "df.describe()"
   ]
  },
  {
   "cell_type": "code",
   "execution_count": 6,
   "id": "2dff6ee2-ed2d-4307-b9bb-eb48da2cbdf6",
   "metadata": {
    "tags": []
   },
   "outputs": [
    {
     "data": {
      "text/plain": [
       "Text(0, 0.5, 'Width')"
      ]
     },
     "execution_count": 6,
     "metadata": {},
     "output_type": "execute_result"
    },
    {
     "data": {
      "image/png": "[encoded data removed]",
      "text/plain": [
       "<Figure size 1008x1008 with 8 Axes>"
      ]
     },
     "metadata": {
      "needs_background": "light"
     },
     "output_type": "display_data"
    }
   ],
   "source": [
    "# Построим графики зависимости глубины и ширины от каждой переменной (IW, IF, VW, FP)\n",
    "fig = plt.figure(figsize=[14, 14])\n",
    "\n",
    "ax1 = fig.add_subplot(421)\n",
    "ax2 = fig.add_subplot(422)\n",
    "ax3 = fig.add_subplot(423)\n",
    "ax4 = fig.add_subplot(424)\n",
    "ax5 = fig.add_subplot(425)\n",
    "ax6 = fig.add_subplot(426)\n",
    "ax7 = fig.add_subplot(427)\n",
    "ax8 = fig.add_subplot(428)\n",
    "\n",
    "ax1.scatter(df['IW'], df['Depth'], color='b')\n",
    "ax1.set_xlabel('IW'); ax1.set_ylabel('Depth')\n",
    "ax2.scatter(df['IW'], df['Width'], color='g')\n",
    "ax2.set_xlabel('IW'); ax2.set_ylabel('Width')\n",
    "\n",
    "ax3.scatter(df['IF'], df['Depth'], color='b')\n",
    "ax3.set_xlabel('IF'); ax3.set_ylabel('Depth')\n",
    "ax4.scatter(df['IF'], df['Width'], color='g')\n",
    "ax4.set_xlabel('IF'); ax4.set_ylabel('Width')\n",
    "\n",
    "ax5.scatter(df['VW'], df['Depth'], color='b')\n",
    "ax5.set_xlabel('VW'); ax5.set_ylabel('Depth')\n",
    "ax6.scatter(df['VW'], df['Width'], color='g')\n",
    "ax6.set_xlabel('VW'); ax6.set_ylabel('Width')\n",
    "\n",
    "ax7.scatter(df['FP'], df['Depth'], color='b')\n",
    "ax7.set_xlabel('FP'); ax7.set_ylabel('Depth')\n",
    "ax8.scatter(df['FP'], df['Width'], color='g')\n",
    "ax8.set_xlabel('FP'); ax8.set_ylabel('Width')\n"
   ]
  },
  {
   "cell_type": "code",
   "execution_count": 7,
   "id": "d5b32ffa-7b3e-4691-9f54-7e269ec46e8c",
   "metadata": {},
   "outputs": [
    {
     "data": {
      "text/plain": [
       "Text(0, 0.5, 'Width')"
      ]
     },
     "execution_count": 7,
     "metadata": {},
     "output_type": "execute_result"
    },
    {
     "data": {
      "image/png": "[encoded data removed]",
      "text/plain": [
       "<Figure size 432x288 with 1 Axes>"
      ]
     },
     "metadata": {
      "needs_background": "light"
     },
     "output_type": "display_data"
    }
   ],
   "source": [
    "# А также график как выглядит ширина от глубины\n",
    "fig = plt.figure()\n",
    "plt.scatter(df['Depth'], df['Width'], color='r')\n",
    "plt.xlabel('Depth'); plt.ylabel('Width')"
   ]
  },
  {
   "cell_type": "code",
   "execution_count": 8,
   "id": "a1b16d9e-fa8d-499f-8bfe-e85162ef118f",
   "metadata": {},
   "outputs": [
    {
     "data": {
      "text/plain": [
       "<AxesSubplot:>"
      ]
     },
     "execution_count": 8,
     "metadata": {},
     "output_type": "execute_result"
    },
    {
     "data": {
      "image/png": "[encoded data removed]",
      "text/plain": [
       "<Figure size 432x288 with 1 Axes>"
      ]
     },
     "metadata": {
      "needs_background": "light"
     },
     "output_type": "display_data"
    }
   ],
   "source": [
    "df['Depth'].hist(bins=20)"
   ]
  },
  {
   "cell_type": "code",
   "execution_count": 9,
   "id": "d0c5efc6-1e53-4aff-8760-c007f716e69a",
   "metadata": {},
   "outputs": [
    {
     "data": {
      "text/plain": [
       "<AxesSubplot:>"
      ]
     },
     "execution_count": 9,
     "metadata": {},
     "output_type": "execute_result"
    },
    {
     "data": {
      "image/png": "[encoded data removed]",
      "text/plain": [
       "<Figure size 432x288 with 1 Axes>"
      ]
     },
     "metadata": {
      "needs_background": "light"
     },
     "output_type": "display_data"
    }
   ],
   "source": [
    "df['Width'].hist(bins=20, color='g')"
   ]
  },
  {
   "cell_type": "markdown",
   "id": "d4d073c3-2553-4e9a-88a9-b112cd3975eb",
   "metadata": {},
   "source": [
    "**Вывод:** кажется, что имеются выбросы в данных. Значения глубины большие 1.6, а также значения ширины большие 2.4 явно выбиваются из общей картины остальных значений. Удалим их и построим графики заново."
   ]
  },
  {
   "cell_type": "code",
   "execution_count": 10,
   "id": "36bd62d0-3ec8-41da-8ef8-6905916c0927",
   "metadata": {},
   "outputs": [],
   "source": [
    "df_backup = df.copy()\n",
    "df = df[(df['Depth'] <= 1.6) & (df['Width'] <= 2.4 )]"
   ]
  },
  {
   "cell_type": "code",
   "execution_count": 11,
   "id": "204b27c3-0388-4ea9-a3e4-db6761486712",
   "metadata": {},
   "outputs": [
    {
     "data": {
      "text/plain": [
       "Text(0, 0.5, 'Width')"
      ]
     },
     "execution_count": 11,
     "metadata": {},
     "output_type": "execute_result"
    },
    {
     "data": {
      "image/png": "[encoded data removed]",
      "text/plain": [
       "<Figure size 1008x1008 with 8 Axes>"
      ]
     },
     "metadata": {
      "needs_background": "light"
     },
     "output_type": "display_data"
    }
   ],
   "source": [
    "fig = plt.figure(figsize=[14, 14])\n",
    "\n",
    "ax1 = fig.add_subplot(421)\n",
    "ax2 = fig.add_subplot(422)\n",
    "ax3 = fig.add_subplot(423)\n",
    "ax4 = fig.add_subplot(424)\n",
    "ax5 = fig.add_subplot(425)\n",
    "ax6 = fig.add_subplot(426)\n",
    "ax7 = fig.add_subplot(427)\n",
    "ax8 = fig.add_subplot(428)\n",
    "\n",
    "ax1.scatter(df['IW'], df['Depth'], color='b')\n",
    "ax1.set_xlabel('IW'); ax1.set_ylabel('Depth')\n",
    "ax2.scatter(df['IW'], df['Width'], color='g')\n",
    "ax2.set_xlabel('IW'); ax2.set_ylabel('Width')\n",
    "\n",
    "ax3.scatter(df['IF'], df['Depth'], color='b')\n",
    "ax3.set_xlabel('IF'); ax3.set_ylabel('Depth')\n",
    "ax4.scatter(df['IF'], df['Width'], color='g')\n",
    "ax4.set_xlabel('IF'); ax4.set_ylabel('Width')\n",
    "\n",
    "ax5.scatter(df['VW'], df['Depth'], color='b')\n",
    "ax5.set_xlabel('VW'); ax5.set_ylabel('Depth')\n",
    "ax6.scatter(df['VW'], df['Width'], color='g')\n",
    "ax6.set_xlabel('VW'); ax6.set_ylabel('Width')\n",
    "\n",
    "ax7.scatter(df['FP'], df['Depth'], color='b')\n",
    "ax7.set_xlabel('FP'); ax7.set_ylabel('Depth')\n",
    "ax8.scatter(df['FP'], df['Width'], color='g')\n",
    "ax8.set_xlabel('FP'); ax8.set_ylabel('Width')\n"
   ]
  },
  {
   "cell_type": "code",
   "execution_count": 12,
   "id": "4b0a1d77-e2a5-444f-b45d-9fca757e4bbb",
   "metadata": {},
   "outputs": [
    {
     "data": {
      "text/plain": [
       "Text(0, 0.5, 'Width')"
      ]
     },
     "execution_count": 12,
     "metadata": {},
     "output_type": "execute_result"
    },
    {
     "data": {
      "image/png": "[encoded data removed]",
      "text/plain": [
       "<Figure size 432x288 with 1 Axes>"
      ]
     },
     "metadata": {
      "needs_background": "light"
     },
     "output_type": "display_data"
    }
   ],
   "source": [
    "fig = plt.figure()\n",
    "plt.scatter(df['Depth'], df['Width'], color='r')\n",
    "plt.xlabel('Depth'); plt.ylabel('Width')"
   ]
  },
  {
   "cell_type": "code",
   "execution_count": 13,
   "id": "5fc7d936-cce1-4c66-b2b6-6150427e6b89",
   "metadata": {},
   "outputs": [
    {
     "data": {
      "text/plain": [
       "<AxesSubplot:>"
      ]
     },
     "execution_count": 13,
     "metadata": {},
     "output_type": "execute_result"
    },
    {
     "data": {
      "image/png": "[encoded data removed]",
      "text/plain": [
       "<Figure size 432x288 with 1 Axes>"
      ]
     },
     "metadata": {
      "needs_background": "light"
     },
     "output_type": "display_data"
    }
   ],
   "source": [
    "df['Depth'].hist(bins=20)"
   ]
  },
  {
   "cell_type": "code",
   "execution_count": 14,
   "id": "854ed71d-ef1e-4569-b132-4e46dae4f75e",
   "metadata": {},
   "outputs": [
    {
     "data": {
      "text/plain": [
       "<AxesSubplot:>"
      ]
     },
     "execution_count": 14,
     "metadata": {},
     "output_type": "execute_result"
    },
    {
     "data": {
      "image/png": "[encoded data removed]",
      "text/plain": [
       "<Figure size 432x288 with 1 Axes>"
      ]
     },
     "metadata": {
      "needs_background": "light"
     },
     "output_type": "display_data"
    }
   ],
   "source": [
    "df['Width'].hist(bins=20, color='g')"
   ]
  },
  {
   "cell_type": "markdown",
   "id": "fc1a53c6-31e6-4356-8c0e-88510a74b68b",
   "metadata": {},
   "source": [
    "**Вывод:** После удаления выбросных значений, стала просматриваться определенная тенденция и зависимость одной переменной от другой. Оставляем датасет с таком виде и приступим к моделированию."
   ]
  },
  {
   "cell_type": "markdown",
   "id": "ce05ab67-0288-4b29-a587-5b553a5692a3",
   "metadata": {
    "tags": []
   },
   "source": [
    "# Modeling"
   ]
  },
  {
   "cell_type": "code",
   "execution_count": 15,
   "id": "138a4541-9d45-4988-8f23-9db20794244b",
   "metadata": {},
   "outputs": [],
   "source": [
    "y_depth = df['Depth']\n",
    "y_width = df['Width']\n",
    "X = df.drop(['Depth', 'Width'], axis=1)"
   ]
  },
  {
   "cell_type": "code",
   "execution_count": 16,
   "id": "5cbdbc8f-5941-4604-a823-7461396361ca",
   "metadata": {},
   "outputs": [],
   "source": [
    "# Разбиваем датасет на тренировочную и тестовую выборки\n",
    "X_train, X_test, y_d_train, y_d_test = train_test_split(X, y_depth, test_size=0.2, random_state=42)"
   ]
  },
  {
   "cell_type": "code",
   "execution_count": 17,
   "id": "83db05fc-71a7-4e9e-b207-65bd6fec5f1d",
   "metadata": {},
   "outputs": [],
   "source": [
    "# Разбиваем датасет на тренировочную и тестовую выборки\n",
    "X_train, X_test, y_w_train, y_w_test = train_test_split(X, y_width, test_size=0.2, random_state=42)"
   ]
  },
  {
   "cell_type": "code",
   "execution_count": 18,
   "id": "8c8b9fba-26ed-49db-96ca-98e6be61ce2a",
   "metadata": {},
   "outputs": [],
   "source": [
    "# оптимизатор GridSearch\n",
    "def grid_optimizer(model, X, y, param_grids):\n",
    "    gs = GridSearchCV(model, \n",
    "                      param_grid=param_grids, \n",
    "                      cv=5, \n",
    "                      scoring='neg_mean_squared_error')\n",
    "    gs.fit(X, y)\n",
    "    print(f\"Best MSE-score: {gs.best_score_}\")\n",
    "    print(f\"Best params: {gs.best_params_}\")\n",
    "    return gs.best_estimator_"
   ]
  },
  {
   "cell_type": "code",
   "execution_count": 19,
   "id": "55334c92-95d5-490b-b238-66eb2947abaa",
   "metadata": {},
   "outputs": [],
   "source": [
    "# Использует Стандарную нормализацию\n",
    "scaler = StandardScaler()\n",
    "X_train = scaler.fit_transform(X_train)\n",
    "X_test = scaler.transform(X_test)"
   ]
  },
  {
   "cell_type": "code",
   "execution_count": 20,
   "id": "971c1525-2fd2-4d33-8456-494230145f80",
   "metadata": {},
   "outputs": [
    {
     "data": {
      "text/plain": [
       "(array([ 1.78815062,  5.86387096,  0.88755868, 24.902588  ]),\n",
       " array([ 45.72916667, 141.10416667,   9.4375    ,  80.83333333]),\n",
       " array([  3.19748264,  34.38498264,   0.78776042, 620.13888889]),\n",
       " 4,\n",
       " 48)"
      ]
     },
     "execution_count": 20,
     "metadata": {},
     "output_type": "execute_result"
    }
   ],
   "source": [
    "# Получаем значения стандартного нормализатора для дальнейшего использовании в веб-приложении. \n",
    "scaler.scale_, scaler.mean_, scaler.var_, scaler.n_features_in_, scaler.n_samples_seen_\n"
   ]
  },
  {
   "cell_type": "markdown",
   "id": "e4614164-0751-4f2e-975d-6afbd050722d",
   "metadata": {},
   "source": [
    "Будем моделировать 3 модели (RidgeRegression, RandomForestRegressor, NeuralNetwork) для сравнения. Будем строить отдельную модель для каждого таргера Depth/Width, кроме в нейросетевой модели, т.к. там можно прогнозировать сразу оба таргета."
   ]
  },
  {
   "cell_type": "markdown",
   "id": "410ac774-e07f-45f0-890f-1dcc53fb856e",
   "metadata": {},
   "source": [
    "## 1. RidgeRegression"
   ]
  },
  {
   "cell_type": "markdown",
   "id": "eefa4843-af7d-44a4-9119-25f6de592060",
   "metadata": {},
   "source": [
    "### a) Model for depth prediction"
   ]
  },
  {
   "cell_type": "code",
   "execution_count": 21,
   "id": "a9628238-8dd1-4fd3-b636-a591ffb53938",
   "metadata": {},
   "outputs": [],
   "source": [
    "r_d = Ridge(random_state=42)"
   ]
  },
  {
   "cell_type": "code",
   "execution_count": 22,
   "id": "23634222-4698-45bd-84eb-e3999c477412",
   "metadata": {},
   "outputs": [],
   "source": [
    "param_grid = {\n",
    "    'alpha': [0.2, 0.5, 0.8, 1],\n",
    "    'solver': ['auto', 'lbfgs', 'saga'],\n",
    "}"
   ]
  },
  {
   "cell_type": "code",
   "execution_count": 23,
   "id": "0f258d56-9e53-49f2-b053-70a9165ea4c3",
   "metadata": {},
   "outputs": [
    {
     "name": "stdout",
     "output_type": "stream",
     "text": [
      "Best MSE-score: -0.005419350024416884\n",
      "Best params: {'alpha': 0.2, 'solver': 'auto'}\n"
     ]
    }
   ],
   "source": [
    "best_r_d = grid_optimizer(r_d, X_train, y_d_train, param_grid)"
   ]
  },
  {
   "cell_type": "code",
   "execution_count": 24,
   "id": "965fe1b1-413a-4a5d-9129-c045b64a5ab1",
   "metadata": {},
   "outputs": [
    {
     "name": "stdout",
     "output_type": "stream",
     "text": [
      "RidgeRegression MSE-score: 0.002336038909558509\n"
     ]
    }
   ],
   "source": [
    "y_d_pred = best_r_d.predict(X_test)\n",
    "print(f'RidgeRegression MSE-score: {mean_squared_error(y_d_test, y_d_pred)}')"
   ]
  },
  {
   "cell_type": "markdown",
   "id": "86645475-925e-4a54-9772-18f2b3927d44",
   "metadata": {},
   "source": [
    "### b) Model for width prediction"
   ]
  },
  {
   "cell_type": "code",
   "execution_count": 25,
   "id": "bc550582-336b-4aca-b1ff-8ba8aa3ecbea",
   "metadata": {},
   "outputs": [],
   "source": [
    "r_w = Ridge(random_state=42)"
   ]
  },
  {
   "cell_type": "code",
   "execution_count": 26,
   "id": "4b26ec04-f296-4b67-b9f0-762c11145cac",
   "metadata": {},
   "outputs": [],
   "source": [
    "param_grid = {\n",
    "    'alpha': [0.2, 0.5, 0.8, 1],\n",
    "    'solver': ['auto', 'lbfgs', 'saga'],\n",
    "}"
   ]
  },
  {
   "cell_type": "code",
   "execution_count": 27,
   "id": "855b026b-7c6d-4b15-8591-0e92a60cf121",
   "metadata": {},
   "outputs": [
    {
     "name": "stdout",
     "output_type": "stream",
     "text": [
      "Best MSE-score: -0.0033714790312116627\n",
      "Best params: {'alpha': 0.2, 'solver': 'auto'}\n"
     ]
    }
   ],
   "source": [
    "best_r_w = grid_optimizer(r_w, X_train, y_w_train, param_grid)"
   ]
  },
  {
   "cell_type": "code",
   "execution_count": 28,
   "id": "7f4f346c-03d2-415b-bb13-168993ac2ce1",
   "metadata": {},
   "outputs": [
    {
     "name": "stdout",
     "output_type": "stream",
     "text": [
      "RidgeRegression MSE-score: 0.0024851932507651835\n"
     ]
    }
   ],
   "source": [
    "y_w_pred = best_r_w.predict(X_test)\n",
    "print(f'RidgeRegression MSE-score: {mean_squared_error(y_w_test, y_w_pred)}')"
   ]
  },
  {
   "cell_type": "markdown",
   "id": "f0af8b8d-82c2-45fc-ab1d-871d8c4efbb7",
   "metadata": {},
   "source": [
    "## 2. RandomForestRegression"
   ]
  },
  {
   "cell_type": "markdown",
   "id": "919cc42a-ee28-47d9-89e2-be386dd0fda7",
   "metadata": {},
   "source": [
    "### a) Model for depth prediction"
   ]
  },
  {
   "cell_type": "code",
   "execution_count": 29,
   "id": "399a2096-1116-4cb2-9d48-db76f9906823",
   "metadata": {},
   "outputs": [],
   "source": [
    "rfr_d = RandomForestRegressor(random_state=42, n_jobs=-1)"
   ]
  },
  {
   "cell_type": "code",
   "execution_count": 30,
   "id": "0a116378-cde6-4f90-9688-89822dafc5fc",
   "metadata": {},
   "outputs": [],
   "source": [
    "param_grid = {\n",
    "    'n_estimators': [20, 100, 250, 1000],\n",
    "    'max_depth': [5, 8, 10, 15],\n",
    "    'max_features': ['sqrt', 4],\n",
    "}"
   ]
  },
  {
   "cell_type": "code",
   "execution_count": 31,
   "id": "cb727f64-5c75-4aec-a1be-7cb15e25ca27",
   "metadata": {},
   "outputs": [
    {
     "name": "stdout",
     "output_type": "stream",
     "text": [
      "Best MSE-score: -0.0030052597949295047\n",
      "Best params: {'max_depth': 5, 'max_features': 4, 'n_estimators': 100}\n"
     ]
    }
   ],
   "source": [
    "best_rfr_d = grid_optimizer(rfr_d, X_train, y_d_train, param_grid)"
   ]
  },
  {
   "cell_type": "code",
   "execution_count": 32,
   "id": "97edd378-d757-4ce4-9244-4ea73478e08e",
   "metadata": {},
   "outputs": [
    {
     "name": "stdout",
     "output_type": "stream",
     "text": [
      "RandomForestRegression MSE-score: 0.0015718977565485402\n"
     ]
    }
   ],
   "source": [
    "y_d_pred = best_rfr_d.predict(X_test)\n",
    "print(f'RandomForestRegression MSE-score: {mean_squared_error(y_d_test, y_d_pred)}')"
   ]
  },
  {
   "cell_type": "markdown",
   "id": "0d29db75-dd46-4adf-b645-02fb32250199",
   "metadata": {},
   "source": [
    "### b) Model for width prediction"
   ]
  },
  {
   "cell_type": "code",
   "execution_count": 33,
   "id": "fecc8fda-2707-4e5c-aba6-c68f06185867",
   "metadata": {},
   "outputs": [],
   "source": [
    "rfr_w = RandomForestRegressor(random_state=42, n_jobs=-1)"
   ]
  },
  {
   "cell_type": "code",
   "execution_count": 34,
   "id": "a97f177d-6e55-49d7-9681-427add112e28",
   "metadata": {},
   "outputs": [],
   "source": [
    "param_grid = {\n",
    "    'n_estimators': [20, 100, 250, 1000],\n",
    "    'max_depth': [5, 8, 10, 15],\n",
    "    'max_features': ['sqrt', 4],\n",
    "}"
   ]
  },
  {
   "cell_type": "code",
   "execution_count": 35,
   "id": "834dc509-376b-4825-87a2-ca57eb65b8dd",
   "metadata": {},
   "outputs": [
    {
     "name": "stdout",
     "output_type": "stream",
     "text": [
      "Best MSE-score: -0.0034378155506557167\n",
      "Best params: {'max_depth': 5, 'max_features': 'sqrt', 'n_estimators': 20}\n"
     ]
    }
   ],
   "source": [
    "best_rfr_w = grid_optimizer(rfr_w, X_train, y_w_train, param_grid)"
   ]
  },
  {
   "cell_type": "code",
   "execution_count": 36,
   "id": "6d715754-c48b-4627-9259-c79c1bac49e5",
   "metadata": {},
   "outputs": [
    {
     "name": "stdout",
     "output_type": "stream",
     "text": [
      "RandomForestRegression MSE-score: 0.003314756937546659\n"
     ]
    }
   ],
   "source": [
    "y_w_pred = best_rfr_w.predict(X_test)\n",
    "print(f'RandomForestRegression MSE-score: {mean_squared_error(y_w_test, y_w_pred)}')"
   ]
  },
  {
   "cell_type": "markdown",
   "id": "10a129bf-baa6-4801-83d9-c5e1193bdb81",
   "metadata": {},
   "source": [
    "## 3. Neural Network"
   ]
  },
  {
   "cell_type": "code",
   "execution_count": 37,
   "id": "f4ebaa2a-4fd5-49d8-bc32-fbd32f3afa2b",
   "metadata": {},
   "outputs": [],
   "source": [
    "y_train = pd.concat([y_d_train, y_w_train], axis=1)\n",
    "y_test = pd.concat([y_d_test, y_w_test], axis=1)"
   ]
  },
  {
   "cell_type": "code",
   "execution_count": 38,
   "id": "e2a8fcdf-0013-4536-afe9-a6724c34e994",
   "metadata": {},
   "outputs": [
    {
     "data": {
      "text/plain": [
       "(1.16, 1.8)"
      ]
     },
     "execution_count": 38,
     "metadata": {},
     "output_type": "execute_result"
    }
   ],
   "source": [
    "y_d_train.iloc[22], y_w_train.iloc[22]"
   ]
  },
  {
   "cell_type": "code",
   "execution_count": 39,
   "id": "37b247ed-e7c5-4214-b792-46b8caf22e6f",
   "metadata": {},
   "outputs": [],
   "source": [
    "y_train = y_train.to_numpy()\n",
    "y_test = y_test.to_numpy()"
   ]
  },
  {
   "cell_type": "code",
   "execution_count": 40,
   "id": "815572f5-2307-4f3d-b798-22fd6c05e673",
   "metadata": {},
   "outputs": [
    {
     "data": {
      "text/plain": [
       "array([1.16, 1.8 ])"
      ]
     },
     "execution_count": 40,
     "metadata": {},
     "output_type": "execute_result"
    }
   ],
   "source": [
    "y_train[22]"
   ]
  },
  {
   "cell_type": "code",
   "execution_count": 41,
   "id": "7b039dab-150d-43db-afe9-774d0a1d852f",
   "metadata": {},
   "outputs": [],
   "source": [
    "K.clear_session()"
   ]
  },
  {
   "cell_type": "code",
   "execution_count": 42,
   "id": "abe92896-61a2-48f6-9f83-7e2abe221e37",
   "metadata": {},
   "outputs": [
    {
     "name": "stdout",
     "output_type": "stream",
     "text": [
      "Model: \"sequential\"\n",
      "_________________________________________________________________\n",
      " Layer (type)                Output Shape              Param #   \n",
      "=================================================================\n",
      " dense (Dense)               (None, 6)                 30        \n",
      "                                                                 \n",
      " dense_1 (Dense)             (None, 8)                 56        \n",
      "                                                                 \n",
      " dense_2 (Dense)             (None, 10)                90        \n",
      "                                                                 \n",
      " dense_3 (Dense)             (None, 8)                 88        \n",
      "                                                                 \n",
      " dense_4 (Dense)             (None, 4)                 36        \n",
      "                                                                 \n",
      " dense_5 (Dense)             (None, 2)                 10        \n",
      "                                                                 \n",
      "=================================================================\n",
      "Total params: 310\n",
      "Trainable params: 310\n",
      "Non-trainable params: 0\n",
      "_________________________________________________________________\n"
     ]
    }
   ],
   "source": [
    "# Модель простого перцептрона, после некоторых итераций моделирования данная глубина нейронной модели показала лучшую метрику MSE.\n",
    "# Батч-нормализация и Дроп-ауты не привели к улучшению качества, вероятно из-за небольшого датасета - нейросетевая модель не могла с такими сильными \"штрафами\" показать хорошее обобщение данных.\n",
    "nn_model = Sequential()\n",
    "nn_model.add(Dense(6, activation='elu', input_shape=(4,)))\n",
    "nn_model.add(Dense(8, activation='elu'))\n",
    "nn_model.add(Dense(10, activation='elu'))\n",
    "nn_model.add(Dense(8, activation='elu'))\n",
    "nn_model.add(Dense(4, activation='elu'))\n",
    "nn_model.add(Dense(2))\n",
    "nn_model.summary()"
   ]
  },
  {
   "cell_type": "code",
   "execution_count": 43,
   "id": "cc665fc1-5a76-4c77-87c1-f3b3aeb9f291",
   "metadata": {},
   "outputs": [],
   "source": [
    "# Компилируем модель ИНС\n",
    "BATCH_SIZE = 4\n",
    "EPOCHS = 100\n",
    "\n",
    "nn_model.compile(\n",
    "  loss='mse', \n",
    "  optimizer=O.RMSprop(learning_rate=0.01),\n",
    "  metrics=['mean_squared_error']\n",
    ")\n"
   ]
  },
  {
   "cell_type": "code",
   "execution_count": 44,
   "id": "f7a6b3ca-7bd1-443c-b143-01ba40e2ca77",
   "metadata": {},
   "outputs": [],
   "source": [
    "# добавляем некоторые колл-бэки\n",
    "checkpoint = ModelCheckpoint(\"../model/best_model.hdf5\" , monitor = ['val_mean_squared_error'] , verbose = 1  , mode = 'min')\n",
    "earlystop = EarlyStopping(monitor='val_mean_squared_error', patience=10, restore_best_weights=True)\n",
    "callback_reduce_lr = ReduceLROnPlateau(monitor='val_mean_squared_error', factor=0.5, min_lr=1e-7, patience=3, verbose=1)\n",
    "callbacks_list = [checkpoint, earlystop, callback_reduce_lr]"
   ]
  },
  {
   "cell_type": "code",
   "execution_count": 45,
   "id": "4fd5718e-fd27-4cec-8adf-865b1f24e8ac",
   "metadata": {
    "jupyter": {
     "outputs_hidden": true
    },
    "tags": []
   },
   "outputs": [
    {
     "name": "stdout",
     "output_type": "stream",
     "text": [
      "Epoch 1/100\n",
      " 1/12 [=>............................] - ETA: 9s - loss: 3.0425 - mean_squared_error: 3.0425\n",
      "Epoch 1: saving model to ../model\\best_model.hdf5\n",
      "12/12 [==============================] - 1s 22ms/step - loss: 0.9599 - mean_squared_error: 0.9599 - val_loss: 0.0453 - val_mean_squared_error: 0.0453 - lr: 0.0100\n",
      "Epoch 2/100\n",
      " 1/12 [=>............................] - ETA: 0s - loss: 0.1127 - mean_squared_error: 0.1127\n",
      "Epoch 2: saving model to ../model\\best_model.hdf5\n",
      "12/12 [==============================] - 0s 6ms/step - loss: 0.0348 - mean_squared_error: 0.0348 - val_loss: 0.0116 - val_mean_squared_error: 0.0116 - lr: 0.0100\n",
      "Epoch 3/100\n",
      " 1/12 [=>............................] - ETA: 0s - loss: 0.0198 - mean_squared_error: 0.0198\n",
      "Epoch 3: saving model to ../model\\best_model.hdf5\n",
      "12/12 [==============================] - 0s 6ms/step - loss: 0.0150 - mean_squared_error: 0.0150 - val_loss: 0.0070 - val_mean_squared_error: 0.0070 - lr: 0.0100\n",
      "Epoch 4/100\n",
      " 1/12 [=>............................] - ETA: 0s - loss: 0.0113 - mean_squared_error: 0.0113\n",
      "Epoch 4: saving model to ../model\\best_model.hdf5\n",
      "12/12 [==============================] - 0s 6ms/step - loss: 0.0122 - mean_squared_error: 0.0122 - val_loss: 0.0091 - val_mean_squared_error: 0.0091 - lr: 0.0100\n",
      "Epoch 5/100\n",
      " 1/12 [=>............................] - ETA: 0s - loss: 0.0074 - mean_squared_error: 0.0074\n",
      "Epoch 5: saving model to ../model\\best_model.hdf5\n",
      "12/12 [==============================] - 0s 5ms/step - loss: 0.0118 - mean_squared_error: 0.0118 - val_loss: 0.0149 - val_mean_squared_error: 0.0149 - lr: 0.0100\n",
      "Epoch 6/100\n",
      " 1/12 [=>............................] - ETA: 0s - loss: 0.0078 - mean_squared_error: 0.0078\n",
      "Epoch 6: saving model to ../model\\best_model.hdf5\n",
      "\n",
      "Epoch 6: ReduceLROnPlateau reducing learning rate to 0.004999999888241291.\n",
      "12/12 [==============================] - 0s 6ms/step - loss: 0.0135 - mean_squared_error: 0.0135 - val_loss: 0.0108 - val_mean_squared_error: 0.0108 - lr: 0.0100\n",
      "Epoch 7/100\n",
      " 1/12 [=>............................] - ETA: 0s - loss: 0.0065 - mean_squared_error: 0.0065\n",
      "Epoch 7: saving model to ../model\\best_model.hdf5\n",
      "12/12 [==============================] - 0s 5ms/step - loss: 0.0079 - mean_squared_error: 0.0079 - val_loss: 0.0045 - val_mean_squared_error: 0.0045 - lr: 0.0050\n",
      "Epoch 8/100\n",
      " 1/12 [=>............................] - ETA: 0s - loss: 0.0036 - mean_squared_error: 0.0036\n",
      "Epoch 8: saving model to ../model\\best_model.hdf5\n",
      "12/12 [==============================] - 0s 5ms/step - loss: 0.0074 - mean_squared_error: 0.0074 - val_loss: 0.0048 - val_mean_squared_error: 0.0048 - lr: 0.0050\n",
      "Epoch 9/100\n",
      " 1/12 [=>............................] - ETA: 0s - loss: 0.0028 - mean_squared_error: 0.0028\n",
      "Epoch 9: saving model to ../model\\best_model.hdf5\n",
      "12/12 [==============================] - 0s 5ms/step - loss: 0.0071 - mean_squared_error: 0.0071 - val_loss: 0.0047 - val_mean_squared_error: 0.0047 - lr: 0.0050\n",
      "Epoch 10/100\n",
      " 1/12 [=>............................] - ETA: 0s - loss: 0.0022 - mean_squared_error: 0.0022\n",
      "Epoch 10: saving model to ../model\\best_model.hdf5\n",
      "\n",
      "Epoch 10: ReduceLROnPlateau reducing learning rate to 0.0024999999441206455.\n",
      "12/12 [==============================] - 0s 6ms/step - loss: 0.0067 - mean_squared_error: 0.0067 - val_loss: 0.0071 - val_mean_squared_error: 0.0071 - lr: 0.0050\n",
      "Epoch 11/100\n",
      " 1/12 [=>............................] - ETA: 0s - loss: 0.0030 - mean_squared_error: 0.0030\n",
      "Epoch 11: saving model to ../model\\best_model.hdf5\n",
      "12/12 [==============================] - 0s 6ms/step - loss: 0.0060 - mean_squared_error: 0.0060 - val_loss: 0.0036 - val_mean_squared_error: 0.0036 - lr: 0.0025\n",
      "Epoch 12/100\n",
      " 1/12 [=>............................] - ETA: 0s - loss: 0.0018 - mean_squared_error: 0.0018\n",
      "Epoch 12: saving model to ../model\\best_model.hdf5\n",
      "12/12 [==============================] - 0s 6ms/step - loss: 0.0056 - mean_squared_error: 0.0056 - val_loss: 0.0035 - val_mean_squared_error: 0.0035 - lr: 0.0025\n",
      "Epoch 13/100\n",
      " 1/12 [=>............................] - ETA: 0s - loss: 0.0017 - mean_squared_error: 0.0017\n",
      "Epoch 13: saving model to ../model\\best_model.hdf5\n",
      "12/12 [==============================] - 0s 6ms/step - loss: 0.0055 - mean_squared_error: 0.0055 - val_loss: 0.0033 - val_mean_squared_error: 0.0033 - lr: 0.0025\n",
      "Epoch 14/100\n",
      " 1/12 [=>............................] - ETA: 0s - loss: 0.0016 - mean_squared_error: 0.0016\n",
      "Epoch 14: saving model to ../model\\best_model.hdf5\n",
      "12/12 [==============================] - 0s 6ms/step - loss: 0.0053 - mean_squared_error: 0.0053 - val_loss: 0.0032 - val_mean_squared_error: 0.0032 - lr: 0.0025\n",
      "Epoch 15/100\n",
      " 1/12 [=>............................] - ETA: 0s - loss: 0.0015 - mean_squared_error: 0.0015\n",
      "Epoch 15: saving model to ../model\\best_model.hdf5\n",
      "12/12 [==============================] - 0s 6ms/step - loss: 0.0051 - mean_squared_error: 0.0051 - val_loss: 0.0031 - val_mean_squared_error: 0.0031 - lr: 0.0025\n",
      "Epoch 16/100\n",
      " 1/12 [=>............................] - ETA: 0s - loss: 0.0015 - mean_squared_error: 0.0015\n",
      "Epoch 16: saving model to ../model\\best_model.hdf5\n",
      "12/12 [==============================] - 0s 6ms/step - loss: 0.0050 - mean_squared_error: 0.0050 - val_loss: 0.0030 - val_mean_squared_error: 0.0030 - lr: 0.0025\n",
      "Epoch 17/100\n",
      " 1/12 [=>............................] - ETA: 0s - loss: 0.0014 - mean_squared_error: 0.0014\n",
      "Epoch 17: saving model to ../model\\best_model.hdf5\n",
      "12/12 [==============================] - 0s 5ms/step - loss: 0.0049 - mean_squared_error: 0.0049 - val_loss: 0.0029 - val_mean_squared_error: 0.0029 - lr: 0.0025\n",
      "Epoch 18/100\n",
      " 1/12 [=>............................] - ETA: 0s - loss: 0.0014 - mean_squared_error: 0.0014\n",
      "Epoch 18: saving model to ../model\\best_model.hdf5\n",
      "12/12 [==============================] - 0s 6ms/step - loss: 0.0047 - mean_squared_error: 0.0047 - val_loss: 0.0028 - val_mean_squared_error: 0.0028 - lr: 0.0025\n",
      "Epoch 19/100\n",
      " 1/12 [=>............................] - ETA: 0s - loss: 0.0014 - mean_squared_error: 0.0014\n",
      "Epoch 19: saving model to ../model\\best_model.hdf5\n",
      "12/12 [==============================] - 0s 6ms/step - loss: 0.0046 - mean_squared_error: 0.0046 - val_loss: 0.0027 - val_mean_squared_error: 0.0027 - lr: 0.0025\n",
      "Epoch 20/100\n",
      " 1/12 [=>............................] - ETA: 0s - loss: 0.0013 - mean_squared_error: 0.0013\n",
      "Epoch 20: saving model to ../model\\best_model.hdf5\n",
      "12/12 [==============================] - 0s 5ms/step - loss: 0.0045 - mean_squared_error: 0.0045 - val_loss: 0.0026 - val_mean_squared_error: 0.0026 - lr: 0.0025\n",
      "Epoch 21/100\n",
      " 1/12 [=>............................] - ETA: 0s - loss: 0.0013 - mean_squared_error: 0.0013\n",
      "Epoch 21: saving model to ../model\\best_model.hdf5\n",
      "12/12 [==============================] - 0s 6ms/step - loss: 0.0044 - mean_squared_error: 0.0044 - val_loss: 0.0026 - val_mean_squared_error: 0.0026 - lr: 0.0025\n",
      "Epoch 22/100\n",
      " 1/12 [=>............................] - ETA: 0s - loss: 0.0013 - mean_squared_error: 0.0013\n",
      "Epoch 22: saving model to ../model\\best_model.hdf5\n",
      "12/12 [==============================] - 0s 6ms/step - loss: 0.0043 - mean_squared_error: 0.0043 - val_loss: 0.0025 - val_mean_squared_error: 0.0025 - lr: 0.0025\n",
      "Epoch 23/100\n",
      " 1/12 [=>............................] - ETA: 0s - loss: 0.0013 - mean_squared_error: 0.0013\n",
      "Epoch 23: saving model to ../model\\best_model.hdf5\n",
      "12/12 [==============================] - 0s 5ms/step - loss: 0.0043 - mean_squared_error: 0.0043 - val_loss: 0.0025 - val_mean_squared_error: 0.0025 - lr: 0.0025\n",
      "Epoch 24/100\n",
      " 1/12 [=>............................] - ETA: 0s - loss: 0.0013 - mean_squared_error: 0.0013\n",
      "Epoch 24: saving model to ../model\\best_model.hdf5\n",
      "12/12 [==============================] - 0s 5ms/step - loss: 0.0042 - mean_squared_error: 0.0042 - val_loss: 0.0025 - val_mean_squared_error: 0.0025 - lr: 0.0025\n",
      "Epoch 25/100\n",
      " 1/12 [=>............................] - ETA: 0s - loss: 0.0013 - mean_squared_error: 0.0013\n",
      "Epoch 25: saving model to ../model\\best_model.hdf5\n",
      "12/12 [==============================] - 0s 6ms/step - loss: 0.0042 - mean_squared_error: 0.0042 - val_loss: 0.0024 - val_mean_squared_error: 0.0024 - lr: 0.0025\n",
      "Epoch 26/100\n"
     ]
    },
    {
     "name": "stdout",
     "output_type": "stream",
     "text": [
      " 1/12 [=>............................] - ETA: 0s - loss: 0.0013 - mean_squared_error: 0.0013\n",
      "Epoch 26: saving model to ../model\\best_model.hdf5\n",
      "12/12 [==============================] - 0s 5ms/step - loss: 0.0041 - mean_squared_error: 0.0041 - val_loss: 0.0024 - val_mean_squared_error: 0.0024 - lr: 0.0025\n",
      "Epoch 27/100\n",
      " 1/12 [=>............................] - ETA: 0s - loss: 0.0013 - mean_squared_error: 0.0013\n",
      "Epoch 27: saving model to ../model\\best_model.hdf5\n",
      "\n",
      "Epoch 27: ReduceLROnPlateau reducing learning rate to 0.0012499999720603228.\n",
      "12/12 [==============================] - 0s 5ms/step - loss: 0.0041 - mean_squared_error: 0.0041 - val_loss: 0.0024 - val_mean_squared_error: 0.0024 - lr: 0.0025\n",
      "Epoch 28/100\n",
      " 1/12 [=>............................] - ETA: 0s - loss: 0.0013 - mean_squared_error: 0.0013\n",
      "Epoch 28: saving model to ../model\\best_model.hdf5\n",
      "12/12 [==============================] - 0s 5ms/step - loss: 0.0037 - mean_squared_error: 0.0037 - val_loss: 0.0024 - val_mean_squared_error: 0.0024 - lr: 0.0012\n",
      "Epoch 29/100\n",
      " 1/12 [=>............................] - ETA: 0s - loss: 0.0012 - mean_squared_error: 0.0012\n",
      "Epoch 29: saving model to ../model\\best_model.hdf5\n",
      "12/12 [==============================] - 0s 5ms/step - loss: 0.0037 - mean_squared_error: 0.0037 - val_loss: 0.0024 - val_mean_squared_error: 0.0024 - lr: 0.0012\n",
      "Epoch 30/100\n",
      " 1/12 [=>............................] - ETA: 0s - loss: 0.0012 - mean_squared_error: 0.0012\n",
      "Epoch 30: saving model to ../model\\best_model.hdf5\n",
      "12/12 [==============================] - 0s 5ms/step - loss: 0.0037 - mean_squared_error: 0.0037 - val_loss: 0.0024 - val_mean_squared_error: 0.0024 - lr: 0.0012\n",
      "Epoch 31/100\n",
      " 1/12 [=>............................] - ETA: 0s - loss: 0.0012 - mean_squared_error: 0.0012\n",
      "Epoch 31: saving model to ../model\\best_model.hdf5\n",
      "12/12 [==============================] - 0s 6ms/step - loss: 0.0037 - mean_squared_error: 0.0037 - val_loss: 0.0023 - val_mean_squared_error: 0.0023 - lr: 0.0012\n",
      "Epoch 32/100\n",
      " 1/12 [=>............................] - ETA: 0s - loss: 0.0011 - mean_squared_error: 0.0011\n",
      "Epoch 32: saving model to ../model\\best_model.hdf5\n",
      "12/12 [==============================] - 0s 6ms/step - loss: 0.0036 - mean_squared_error: 0.0036 - val_loss: 0.0023 - val_mean_squared_error: 0.0023 - lr: 0.0012\n",
      "Epoch 33/100\n",
      " 1/12 [=>............................] - ETA: 0s - loss: 0.0011 - mean_squared_error: 0.0011\n",
      "Epoch 33: saving model to ../model\\best_model.hdf5\n",
      "\n",
      "Epoch 33: ReduceLROnPlateau reducing learning rate to 0.0006249999860301614.\n",
      "12/12 [==============================] - 0s 6ms/step - loss: 0.0036 - mean_squared_error: 0.0036 - val_loss: 0.0023 - val_mean_squared_error: 0.0023 - lr: 0.0012\n",
      "Epoch 34/100\n",
      " 1/12 [=>............................] - ETA: 0s - loss: 0.0011 - mean_squared_error: 0.0011\n",
      "Epoch 34: saving model to ../model\\best_model.hdf5\n",
      "12/12 [==============================] - 0s 5ms/step - loss: 0.0034 - mean_squared_error: 0.0034 - val_loss: 0.0024 - val_mean_squared_error: 0.0024 - lr: 6.2500e-04\n",
      "Epoch 35/100\n",
      " 1/12 [=>............................] - ETA: 0s - loss: 0.0011 - mean_squared_error: 0.0011\n",
      "Epoch 35: saving model to ../model\\best_model.hdf5\n",
      "12/12 [==============================] - 0s 5ms/step - loss: 0.0034 - mean_squared_error: 0.0034 - val_loss: 0.0025 - val_mean_squared_error: 0.0025 - lr: 6.2500e-04\n",
      "Epoch 36/100\n",
      " 1/12 [=>............................] - ETA: 0s - loss: 0.0011 - mean_squared_error: 0.0011\n",
      "Epoch 36: saving model to ../model\\best_model.hdf5\n",
      "\n",
      "Epoch 36: ReduceLROnPlateau reducing learning rate to 0.0003124999930150807.\n",
      "12/12 [==============================] - 0s 5ms/step - loss: 0.0034 - mean_squared_error: 0.0034 - val_loss: 0.0025 - val_mean_squared_error: 0.0025 - lr: 6.2500e-04\n",
      "Epoch 37/100\n",
      " 1/12 [=>............................] - ETA: 0s - loss: 0.0011 - mean_squared_error: 0.0011\n",
      "Epoch 37: saving model to ../model\\best_model.hdf5\n",
      "12/12 [==============================] - 0s 5ms/step - loss: 0.0033 - mean_squared_error: 0.0033 - val_loss: 0.0025 - val_mean_squared_error: 0.0025 - lr: 3.1250e-04\n",
      "Epoch 38/100\n",
      " 1/12 [=>............................] - ETA: 0s - loss: 0.0010 - mean_squared_error: 0.0010\n",
      "Epoch 38: saving model to ../model\\best_model.hdf5\n",
      "12/12 [==============================] - 0s 5ms/step - loss: 0.0033 - mean_squared_error: 0.0033 - val_loss: 0.0025 - val_mean_squared_error: 0.0025 - lr: 3.1250e-04\n",
      "Epoch 39/100\n",
      " 1/12 [=>............................] - ETA: 0s - loss: 0.0010 - mean_squared_error: 0.0010\n",
      "Epoch 39: saving model to ../model\\best_model.hdf5\n",
      "\n",
      "Epoch 39: ReduceLROnPlateau reducing learning rate to 0.00015624999650754035.\n",
      "12/12 [==============================] - 0s 5ms/step - loss: 0.0033 - mean_squared_error: 0.0033 - val_loss: 0.0025 - val_mean_squared_error: 0.0025 - lr: 3.1250e-04\n",
      "Epoch 40/100\n",
      " 1/12 [=>............................] - ETA: 0s - loss: 9.9788e-04 - mean_squared_error: 9.9788e-04\n",
      "Epoch 40: saving model to ../model\\best_model.hdf5\n",
      "12/12 [==============================] - 0s 5ms/step - loss: 0.0032 - mean_squared_error: 0.0032 - val_loss: 0.0025 - val_mean_squared_error: 0.0025 - lr: 1.5625e-04\n",
      "Epoch 41/100\n",
      " 1/12 [=>............................] - ETA: 0s - loss: 9.7128e-04 - mean_squared_error: 9.7128e-04\n",
      "Epoch 41: saving model to ../model\\best_model.hdf5\n",
      "12/12 [==============================] - 0s 5ms/step - loss: 0.0032 - mean_squared_error: 0.0032 - val_loss: 0.0025 - val_mean_squared_error: 0.0025 - lr: 1.5625e-04\n",
      "Epoch 42/100\n",
      " 1/12 [=>............................] - ETA: 0s - loss: 9.5911e-04 - mean_squared_error: 9.5911e-04\n",
      "Epoch 42: saving model to ../model\\best_model.hdf5\n",
      "\n",
      "Epoch 42: ReduceLROnPlateau reducing learning rate to 7.812499825377017e-05.\n",
      "12/12 [==============================] - 0s 6ms/step - loss: 0.0032 - mean_squared_error: 0.0032 - val_loss: 0.0025 - val_mean_squared_error: 0.0025 - lr: 1.5625e-04\n",
      "Epoch 43/100\n",
      " 1/12 [=>............................] - ETA: 0s - loss: 9.5109e-04 - mean_squared_error: 9.5109e-04\n",
      "Epoch 43: saving model to ../model\\best_model.hdf5\n",
      "12/12 [==============================] - 0s 7ms/step - loss: 0.0032 - mean_squared_error: 0.0032 - val_loss: 0.0025 - val_mean_squared_error: 0.0025 - lr: 7.8125e-05\n"
     ]
    }
   ],
   "source": [
    "# обучаем\n",
    "history = nn_model.fit(\n",
    "  X_train, y_train,\n",
    "  batch_size=BATCH_SIZE,\n",
    "  epochs=EPOCHS,\n",
    "  validation_data=(X_test, y_test),\n",
    "  shuffle=False,\n",
    "  callbacks=callbacks_list\n",
    ")\n"
   ]
  },
  {
   "cell_type": "code",
   "execution_count": 46,
   "id": "5d28f668-337d-4187-864f-42a200b49c4e",
   "metadata": {},
   "outputs": [
    {
     "data": {
      "image/png": "[encoded data removed]",
      "text/plain": [
       "<Figure size 720x360 with 1 Axes>"
      ]
     },
     "metadata": {},
     "output_type": "display_data"
    }
   ],
   "source": [
    "plt.style.use(['dark_background'])\n",
    "fig, ax = plt.subplots(figsize=(10, 5))\n",
    "plt.plot(history.history['mean_squared_error'])\n",
    "plt.plot(history.history['val_mean_squared_error'])\n",
    "plt.title('Model MSE')\n",
    "plt.ylabel('MSE')\n",
    "plt.xlabel('Epoch')\n",
    "plt.legend(['Train', 'Test'], loc='upper left')\n",
    "plt.show()"
   ]
  },
  {
   "cell_type": "markdown",
   "id": "5d503ccb-8987-4c7d-be99-f0ca5a5c85cf",
   "metadata": {},
   "source": [
    "# Сравнение моделей"
   ]
  },
  {
   "cell_type": "code",
   "execution_count": 47,
   "id": "cd5dc8d9-3d97-45f5-8172-3482b04b3b8e",
   "metadata": {},
   "outputs": [
    {
     "data": {
      "text/plain": [
       "array([[1.2 , 2.  ],\n",
       "       [1.02, 1.84],\n",
       "       [1.28, 1.8 ],\n",
       "       [1.2 , 1.86],\n",
       "       [1.08, 1.68],\n",
       "       [1.24, 1.72],\n",
       "       [1.36, 1.76],\n",
       "       [1.2 , 1.76],\n",
       "       [1.12, 1.71],\n",
       "       [1.28, 1.76],\n",
       "       [1.2 , 1.88],\n",
       "       [1.2 , 1.72]])"
      ]
     },
     "execution_count": 47,
     "metadata": {},
     "output_type": "execute_result"
    }
   ],
   "source": [
    "# True value\n",
    "y_test"
   ]
  },
  {
   "cell_type": "code",
   "execution_count": 48,
   "id": "92e3c99e-6042-42cd-b576-0b0d1045110c",
   "metadata": {},
   "outputs": [
    {
     "data": {
      "text/plain": [
       "array([[1.18, 1.96],\n",
       "       [1.01, 1.86],\n",
       "       [1.23, 1.78],\n",
       "       [1.23, 1.78],\n",
       "       [1.14, 1.77],\n",
       "       [1.23, 1.78],\n",
       "       [1.29, 1.77],\n",
       "       [1.24, 1.79],\n",
       "       [1.14, 1.77],\n",
       "       [1.32, 1.77],\n",
       "       [1.23, 1.78],\n",
       "       [1.24, 1.79]])"
      ]
     },
     "execution_count": 48,
     "metadata": {},
     "output_type": "execute_result"
    }
   ],
   "source": [
    "# RandomForest\n",
    "rfr_pred = np.array((best_rfr_d.predict(X_test), best_rfr_w.predict(X_test))).T\n",
    "rfr_pred.round(decimals=2)"
   ]
  },
  {
   "cell_type": "code",
   "execution_count": 49,
   "id": "ef34ae9b-6df6-4802-92de-48708b767600",
   "metadata": {},
   "outputs": [
    {
     "name": "stdout",
     "output_type": "stream",
     "text": [
      "MSE RandomForest: 0.002443327347047597\n"
     ]
    }
   ],
   "source": [
    "print(f'MSE RandomForest: {((rfr_pred - y_test) ** 2).mean()}')"
   ]
  },
  {
   "cell_type": "code",
   "execution_count": 50,
   "id": "964186aa-00cb-4be2-9e26-315843ba38db",
   "metadata": {},
   "outputs": [
    {
     "name": "stdout",
     "output_type": "stream",
     "text": [
      "1/1 [==============================] - 0s 92ms/step\n"
     ]
    },
    {
     "data": {
      "text/plain": [
       "array([[1.19, 1.95],\n",
       "       [1.06, 1.83],\n",
       "       [1.22, 1.79],\n",
       "       [1.22, 1.79],\n",
       "       [1.12, 1.77],\n",
       "       [1.22, 1.79],\n",
       "       [1.29, 1.76],\n",
       "       [1.17, 1.8 ],\n",
       "       [1.12, 1.77],\n",
       "       [1.27, 1.79],\n",
       "       [1.22, 1.79],\n",
       "       [1.17, 1.8 ]], dtype=float32)"
      ]
     },
     "execution_count": 50,
     "metadata": {},
     "output_type": "execute_result"
    }
   ],
   "source": [
    "# Neural Network\n",
    "nn_pred = nn_model.predict(X_test)\n",
    "nn_pred.round(decimals=2)"
   ]
  },
  {
   "cell_type": "code",
   "execution_count": 51,
   "id": "5e769358-15ce-45bc-8023-893d1e9c193f",
   "metadata": {},
   "outputs": [
    {
     "name": "stdout",
     "output_type": "stream",
     "text": [
      "MSE NeuralNetwork: 0.002349276074771881\n"
     ]
    }
   ],
   "source": [
    "print(f'MSE NeuralNetwork: {((nn_pred - y_test) ** 2).mean()}')"
   ]
  },
  {
   "cell_type": "markdown",
   "id": "ab4042d2-8ae3-4bd8-b669-14fae3f571e1",
   "metadata": {},
   "source": [
    "**Вывод:** нейросетевая модель всё-таки показала чуть лучший результат по метрики MSE. Поэтому сохраняем её и выводим в продакшн."
   ]
  },
  {
   "cell_type": "markdown",
   "id": "bdf7740b",
   "metadata": {},
   "source": [
    "**P.S.**: если не удалять \"выбросы\" все модели показывают худшие результаты..."
   ]
  }
 ],
 "metadata": {
  "kernelspec": {
   "display_name": "Python 3 (ipykernel)",
   "language": "python",
   "name": "python3"
  },
  "language_info": {
   "codemirror_mode": {
    "name": "ipython",
    "version": 3
   },
   "file_extension": ".py",
   "mimetype": "text/x-python",
   "name": "python",
   "nbconvert_exporter": "python",
   "pygments_lexer": "ipython3",
   "version": "3.9.7"
  }
 },
 "nbformat": 4,
 "nbformat_minor": 5
}
